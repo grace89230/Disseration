{
 "cells": [
  {
   "cell_type": "markdown",
   "id": "b048eefa",
   "metadata": {},
   "source": [
    "###  RQ4: How did the situation compare with the rest of Europe?"
   ]
  },
  {
   "cell_type": "code",
   "execution_count": 28,
   "id": "fc4c07ca",
   "metadata": {},
   "outputs": [],
   "source": [
    "import pandas as pd\n",
    "import numpy as np\n",
    "import seaborn as sns\n",
    "import matplotlib.pyplot as plt\n",
    "import statsmodels.api as sm\n",
    "from scipy.stats import pearsonr"
   ]
  },
  {
   "cell_type": "code",
   "execution_count": 10,
   "id": "a7024bd0",
   "metadata": {},
   "outputs": [
    {
     "data": {
      "text/html": [
       "<div>\n",
       "<style scoped>\n",
       "    .dataframe tbody tr th:only-of-type {\n",
       "        vertical-align: middle;\n",
       "    }\n",
       "\n",
       "    .dataframe tbody tr th {\n",
       "        vertical-align: top;\n",
       "    }\n",
       "\n",
       "    .dataframe thead th {\n",
       "        text-align: right;\n",
       "    }\n",
       "</style>\n",
       "<table border=\"1\" class=\"dataframe\">\n",
       "  <thead>\n",
       "    <tr style=\"text-align: right;\">\n",
       "      <th></th>\n",
       "      <th>DATAFLOW</th>\n",
       "      <th>LAST UPDATE</th>\n",
       "      <th>freq</th>\n",
       "      <th>nrg_bal</th>\n",
       "      <th>siec</th>\n",
       "      <th>unit</th>\n",
       "      <th>geo</th>\n",
       "      <th>TIME_PERIOD</th>\n",
       "      <th>OBS_VALUE</th>\n",
       "    </tr>\n",
       "  </thead>\n",
       "  <tbody>\n",
       "    <tr>\n",
       "      <th>0</th>\n",
       "      <td>ESTAT:TEN00124(1.0)</td>\n",
       "      <td>24/05/2024 23:00</td>\n",
       "      <td>A</td>\n",
       "      <td>FC_E</td>\n",
       "      <td>TOTAL</td>\n",
       "      <td>KTOE</td>\n",
       "      <td>AL</td>\n",
       "      <td>2011</td>\n",
       "      <td>1953.468</td>\n",
       "    </tr>\n",
       "    <tr>\n",
       "      <th>1</th>\n",
       "      <td>ESTAT:TEN00124(1.0)</td>\n",
       "      <td>24/05/2024 23:00</td>\n",
       "      <td>A</td>\n",
       "      <td>FC_E</td>\n",
       "      <td>TOTAL</td>\n",
       "      <td>KTOE</td>\n",
       "      <td>AL</td>\n",
       "      <td>2012</td>\n",
       "      <td>1790.623</td>\n",
       "    </tr>\n",
       "    <tr>\n",
       "      <th>2</th>\n",
       "      <td>ESTAT:TEN00124(1.0)</td>\n",
       "      <td>24/05/2024 23:00</td>\n",
       "      <td>A</td>\n",
       "      <td>FC_E</td>\n",
       "      <td>TOTAL</td>\n",
       "      <td>KTOE</td>\n",
       "      <td>AL</td>\n",
       "      <td>2013</td>\n",
       "      <td>1961.871</td>\n",
       "    </tr>\n",
       "    <tr>\n",
       "      <th>3</th>\n",
       "      <td>ESTAT:TEN00124(1.0)</td>\n",
       "      <td>24/05/2024 23:00</td>\n",
       "      <td>A</td>\n",
       "      <td>FC_E</td>\n",
       "      <td>TOTAL</td>\n",
       "      <td>KTOE</td>\n",
       "      <td>AL</td>\n",
       "      <td>2014</td>\n",
       "      <td>2058.574</td>\n",
       "    </tr>\n",
       "    <tr>\n",
       "      <th>4</th>\n",
       "      <td>ESTAT:TEN00124(1.0)</td>\n",
       "      <td>24/05/2024 23:00</td>\n",
       "      <td>A</td>\n",
       "      <td>FC_E</td>\n",
       "      <td>TOTAL</td>\n",
       "      <td>KTOE</td>\n",
       "      <td>AL</td>\n",
       "      <td>2015</td>\n",
       "      <td>1962.498</td>\n",
       "    </tr>\n",
       "  </tbody>\n",
       "</table>\n",
       "</div>"
      ],
      "text/plain": [
       "              DATAFLOW       LAST UPDATE freq nrg_bal   siec  unit geo  \\\n",
       "0  ESTAT:TEN00124(1.0)  24/05/2024 23:00    A    FC_E  TOTAL  KTOE  AL   \n",
       "1  ESTAT:TEN00124(1.0)  24/05/2024 23:00    A    FC_E  TOTAL  KTOE  AL   \n",
       "2  ESTAT:TEN00124(1.0)  24/05/2024 23:00    A    FC_E  TOTAL  KTOE  AL   \n",
       "3  ESTAT:TEN00124(1.0)  24/05/2024 23:00    A    FC_E  TOTAL  KTOE  AL   \n",
       "4  ESTAT:TEN00124(1.0)  24/05/2024 23:00    A    FC_E  TOTAL  KTOE  AL   \n",
       "\n",
       "   TIME_PERIOD  OBS_VALUE  \n",
       "0         2011   1953.468  \n",
       "1         2012   1790.623  \n",
       "2         2013   1961.871  \n",
       "3         2014   2058.574  \n",
       "4         2015   1962.498  "
      ]
     },
     "execution_count": 10,
     "metadata": {},
     "output_type": "execute_result"
    }
   ],
   "source": [
    "# Load the dataset of electricity consumption\n",
    "Europe_energy_consumption= pd.read_csv('Final energy consumption by sector.csv')\n",
    "Europe_energy_consumption.head()"
   ]
  },
  {
   "cell_type": "code",
   "execution_count": 11,
   "id": "112e8416",
   "metadata": {},
   "outputs": [],
   "source": [
    "# First, convert the 'TIME_PERIOD' column to datetime\n",
    "Europe_energy_consumption['TIME_PERIOD'] = pd.to_datetime(Europe_energy_consumption['TIME_PERIOD'], format='%Y').dt.year\n",
    "\n",
    "# Sort the DataFrame by the 'TIME_PERIOD' column\n",
    "Europe_energy_consumption = Europe_energy_consumption.sort_values(by='TIME_PERIOD')"
   ]
  },
  {
   "cell_type": "code",
   "execution_count": 12,
   "id": "2c8cce76",
   "metadata": {},
   "outputs": [
    {
     "data": {
      "text/html": [
       "<div>\n",
       "<style scoped>\n",
       "    .dataframe tbody tr th:only-of-type {\n",
       "        vertical-align: middle;\n",
       "    }\n",
       "\n",
       "    .dataframe tbody tr th {\n",
       "        vertical-align: top;\n",
       "    }\n",
       "\n",
       "    .dataframe thead th {\n",
       "        text-align: right;\n",
       "    }\n",
       "</style>\n",
       "<table border=\"1\" class=\"dataframe\">\n",
       "  <thead>\n",
       "    <tr style=\"text-align: right;\">\n",
       "      <th></th>\n",
       "      <th>DATAFLOW</th>\n",
       "      <th>LAST UPDATE</th>\n",
       "      <th>freq</th>\n",
       "      <th>nrg_bal</th>\n",
       "      <th>siec</th>\n",
       "      <th>unit</th>\n",
       "      <th>geo</th>\n",
       "      <th>TIME_PERIOD</th>\n",
       "      <th>OBS_VALUE</th>\n",
       "    </tr>\n",
       "  </thead>\n",
       "  <tbody>\n",
       "    <tr>\n",
       "      <th>0</th>\n",
       "      <td>ESTAT:TEN00124(1.0)</td>\n",
       "      <td>24/05/2024 23:00</td>\n",
       "      <td>A</td>\n",
       "      <td>FC_E</td>\n",
       "      <td>TOTAL</td>\n",
       "      <td>KTOE</td>\n",
       "      <td>AL</td>\n",
       "      <td>2011</td>\n",
       "      <td>1953.468</td>\n",
       "    </tr>\n",
       "    <tr>\n",
       "      <th>438</th>\n",
       "      <td>ESTAT:TEN00124(1.0)</td>\n",
       "      <td>24/05/2024 23:00</td>\n",
       "      <td>A</td>\n",
       "      <td>FC_E</td>\n",
       "      <td>TOTAL</td>\n",
       "      <td>KTOE</td>\n",
       "      <td>TR</td>\n",
       "      <td>2011</td>\n",
       "      <td>76076.088</td>\n",
       "    </tr>\n",
       "    <tr>\n",
       "      <th>57</th>\n",
       "      <td>ESTAT:TEN00124(1.0)</td>\n",
       "      <td>24/05/2024 23:00</td>\n",
       "      <td>A</td>\n",
       "      <td>FC_E</td>\n",
       "      <td>TOTAL</td>\n",
       "      <td>KTOE</td>\n",
       "      <td>CY</td>\n",
       "      <td>2011</td>\n",
       "      <td>1614.212</td>\n",
       "    </tr>\n",
       "    <tr>\n",
       "      <th>426</th>\n",
       "      <td>ESTAT:TEN00124(1.0)</td>\n",
       "      <td>24/05/2024 23:00</td>\n",
       "      <td>A</td>\n",
       "      <td>FC_E</td>\n",
       "      <td>TOTAL</td>\n",
       "      <td>KTOE</td>\n",
       "      <td>SK</td>\n",
       "      <td>2011</td>\n",
       "      <td>10402.286</td>\n",
       "    </tr>\n",
       "    <tr>\n",
       "      <th>69</th>\n",
       "      <td>ESTAT:TEN00124(1.0)</td>\n",
       "      <td>24/05/2024 23:00</td>\n",
       "      <td>A</td>\n",
       "      <td>FC_E</td>\n",
       "      <td>TOTAL</td>\n",
       "      <td>KTOE</td>\n",
       "      <td>CZ</td>\n",
       "      <td>2011</td>\n",
       "      <td>23337.059</td>\n",
       "    </tr>\n",
       "  </tbody>\n",
       "</table>\n",
       "</div>"
      ],
      "text/plain": [
       "                DATAFLOW       LAST UPDATE freq nrg_bal   siec  unit geo  \\\n",
       "0    ESTAT:TEN00124(1.0)  24/05/2024 23:00    A    FC_E  TOTAL  KTOE  AL   \n",
       "438  ESTAT:TEN00124(1.0)  24/05/2024 23:00    A    FC_E  TOTAL  KTOE  TR   \n",
       "57   ESTAT:TEN00124(1.0)  24/05/2024 23:00    A    FC_E  TOTAL  KTOE  CY   \n",
       "426  ESTAT:TEN00124(1.0)  24/05/2024 23:00    A    FC_E  TOTAL  KTOE  SK   \n",
       "69   ESTAT:TEN00124(1.0)  24/05/2024 23:00    A    FC_E  TOTAL  KTOE  CZ   \n",
       "\n",
       "     TIME_PERIOD  OBS_VALUE  \n",
       "0           2011   1953.468  \n",
       "438         2011  76076.088  \n",
       "57          2011   1614.212  \n",
       "426         2011  10402.286  \n",
       "69          2011  23337.059  "
      ]
     },
     "execution_count": 12,
     "metadata": {},
     "output_type": "execute_result"
    }
   ],
   "source": [
    "Europe_energy_consumption.head()"
   ]
  },
  {
   "cell_type": "code",
   "execution_count": 13,
   "id": "914374c1",
   "metadata": {},
   "outputs": [
    {
     "data": {
      "text/plain": [
       "DATAFLOW       0\n",
       "LAST UPDATE    0\n",
       "freq           0\n",
       "nrg_bal        0\n",
       "siec           0\n",
       "unit           0\n",
       "geo            0\n",
       "TIME_PERIOD    0\n",
       "OBS_VALUE      0\n",
       "dtype: int64"
      ]
     },
     "execution_count": 13,
     "metadata": {},
     "output_type": "execute_result"
    }
   ],
   "source": [
    "Europe_energy_consumption.isnull().sum()"
   ]
  },
  {
   "cell_type": "code",
   "execution_count": 14,
   "id": "a8f03b7a",
   "metadata": {},
   "outputs": [
    {
     "data": {
      "text/html": [
       "<div>\n",
       "<style scoped>\n",
       "    .dataframe tbody tr th:only-of-type {\n",
       "        vertical-align: middle;\n",
       "    }\n",
       "\n",
       "    .dataframe tbody tr th {\n",
       "        vertical-align: top;\n",
       "    }\n",
       "\n",
       "    .dataframe thead th {\n",
       "        text-align: right;\n",
       "    }\n",
       "</style>\n",
       "<table border=\"1\" class=\"dataframe\">\n",
       "  <thead>\n",
       "    <tr style=\"text-align: right;\">\n",
       "      <th></th>\n",
       "      <th>TIME_PERIOD</th>\n",
       "      <th>OBS_VALUE</th>\n",
       "    </tr>\n",
       "  </thead>\n",
       "  <tbody>\n",
       "    <tr>\n",
       "      <th>count</th>\n",
       "      <td>481.000000</td>\n",
       "      <td>481.000000</td>\n",
       "    </tr>\n",
       "    <tr>\n",
       "      <th>mean</th>\n",
       "      <td>2016.488565</td>\n",
       "      <td>52885.883405</td>\n",
       "    </tr>\n",
       "    <tr>\n",
       "      <th>std</th>\n",
       "      <td>3.417537</td>\n",
       "      <td>146097.766784</td>\n",
       "    </tr>\n",
       "    <tr>\n",
       "      <th>min</th>\n",
       "      <td>2011.000000</td>\n",
       "      <td>388.461000</td>\n",
       "    </tr>\n",
       "    <tr>\n",
       "      <th>25%</th>\n",
       "      <td>2014.000000</td>\n",
       "      <td>3697.443000</td>\n",
       "    </tr>\n",
       "    <tr>\n",
       "      <th>50%</th>\n",
       "      <td>2016.000000</td>\n",
       "      <td>13611.792000</td>\n",
       "    </tr>\n",
       "    <tr>\n",
       "      <th>75%</th>\n",
       "      <td>2019.000000</td>\n",
       "      <td>33058.280000</td>\n",
       "    </tr>\n",
       "    <tr>\n",
       "      <th>max</th>\n",
       "      <td>2022.000000</td>\n",
       "      <td>942928.329000</td>\n",
       "    </tr>\n",
       "  </tbody>\n",
       "</table>\n",
       "</div>"
      ],
      "text/plain": [
       "       TIME_PERIOD      OBS_VALUE\n",
       "count   481.000000     481.000000\n",
       "mean   2016.488565   52885.883405\n",
       "std       3.417537  146097.766784\n",
       "min    2011.000000     388.461000\n",
       "25%    2014.000000    3697.443000\n",
       "50%    2016.000000   13611.792000\n",
       "75%    2019.000000   33058.280000\n",
       "max    2022.000000  942928.329000"
      ]
     },
     "execution_count": 14,
     "metadata": {},
     "output_type": "execute_result"
    }
   ],
   "source": [
    "Europe_energy_consumption.describe()"
   ]
  },
  {
   "cell_type": "code",
   "execution_count": 15,
   "id": "98d5b41b",
   "metadata": {},
   "outputs": [],
   "source": [
    "# Calculate the average value for each year\n",
    "average_by_year = Europe_energy_consumption.groupby('TIME_PERIOD')['OBS_VALUE'].mean().reset_index()"
   ]
  },
  {
   "cell_type": "code",
   "execution_count": 16,
   "id": "00460383",
   "metadata": {},
   "outputs": [
    {
     "data": {
      "image/png": "[encoded data removed]",
      "text/plain": [
       "<Figure size 700x400 with 1 Axes>"
      ]
     },
     "metadata": {},
     "output_type": "display_data"
    }
   ],
   "source": [
    "# Plotting\n",
    "plt.figure(figsize=(7,4))\n",
    "plt.plot(average_by_year['TIME_PERIOD'], average_by_year['OBS_VALUE'], marker='o', color='m', linestyle='-')\n",
    "plt.title('Average Energy Consumption from 2010 to 2022 for Europe')\n",
    "plt.xlabel('TIME_PERIOD')\n",
    "plt.ylabel('Average Consumption')\n",
    "plt.grid(True)\n",
    "plt.tight_layout()\n",
    "plt.show()"
   ]
  },
  {
   "cell_type": "code",
   "execution_count": 17,
   "id": "cf0b973f",
   "metadata": {},
   "outputs": [
    {
     "name": "stdout",
     "output_type": "stream",
     "text": [
      "Columns in the last row: Index(['TFC', 'Unnamed: 1', '1990', '1991', '1992', '1993', '1994', '1995',\n",
      "       '1996', '1997', '1998', '1999', '2000', '2001', '2002', '2003', '2004',\n",
      "       '2005', '2006', '2007', '2008', '2009', '2010', '2011', '2012', '2013',\n",
      "       '2014', '2015', '2016', '2017', '2018', '2019', '2020', '2021', '2022'],\n",
      "      dtype='object')\n"
     ]
    }
   ],
   "source": [
    "# Load the Excel file of Ireland final energy consumption\n",
    "file_path = r\"C:\\Users\\grace\\Desktop\\Dissertation\\data\\seas\\Final-Energy-Consumption.xlsx\"\n",
    "excel_data = pd.ExcelFile(file_path)\n",
    "\n",
    "# Load the first sheet into a DataFrame\n",
    "df_first_sheet = excel_data.parse(sheet_name=excel_data.sheet_names[0])\n",
    "\n",
    "# Extract the last row of the DataFrame\n",
    "last_row = df_first_sheet.tail(1)\n",
    "\n",
    "# Convert all column names to strings\n",
    "last_row.columns = last_row.columns.map(str)\n",
    "\n",
    "# Print the columns to understand their structure\n",
    "print(\"Columns in the last row:\", last_row.columns)"
   ]
  },
  {
   "cell_type": "code",
   "execution_count": 18,
   "id": "ce7acfce",
   "metadata": {},
   "outputs": [
    {
     "data": {
      "text/html": [
       "<div>\n",
       "<style scoped>\n",
       "    .dataframe tbody tr th:only-of-type {\n",
       "        vertical-align: middle;\n",
       "    }\n",
       "\n",
       "    .dataframe tbody tr th {\n",
       "        vertical-align: top;\n",
       "    }\n",
       "\n",
       "    .dataframe thead th {\n",
       "        text-align: right;\n",
       "    }\n",
       "</style>\n",
       "<table border=\"1\" class=\"dataframe\">\n",
       "  <thead>\n",
       "    <tr style=\"text-align: right;\">\n",
       "      <th></th>\n",
       "      <th>Year</th>\n",
       "      <th>Total Energy Consumption</th>\n",
       "    </tr>\n",
       "  </thead>\n",
       "  <tbody>\n",
       "    <tr>\n",
       "      <th>0</th>\n",
       "      <td>2010</td>\n",
       "      <td>11884.374798</td>\n",
       "    </tr>\n",
       "    <tr>\n",
       "      <th>1</th>\n",
       "      <td>2011</td>\n",
       "      <td>11084.673482</td>\n",
       "    </tr>\n",
       "    <tr>\n",
       "      <th>2</th>\n",
       "      <td>2012</td>\n",
       "      <td>10727.657151</td>\n",
       "    </tr>\n",
       "    <tr>\n",
       "      <th>3</th>\n",
       "      <td>2013</td>\n",
       "      <td>10908.688609</td>\n",
       "    </tr>\n",
       "    <tr>\n",
       "      <th>4</th>\n",
       "      <td>2014</td>\n",
       "      <td>10873.258243</td>\n",
       "    </tr>\n",
       "  </tbody>\n",
       "</table>\n",
       "</div>"
      ],
      "text/plain": [
       "   Year  Total Energy Consumption\n",
       "0  2010              11884.374798\n",
       "1  2011              11084.673482\n",
       "2  2012              10727.657151\n",
       "3  2013              10908.688609\n",
       "4  2014              10873.258243"
      ]
     },
     "execution_count": 18,
     "metadata": {},
     "output_type": "execute_result"
    }
   ],
   "source": [
    "# Filter the columns to include only the years from 2010 to 2022\n",
    "years_of_interest = [str(year) for year in range(2010, 2022 + 1)]\n",
    "filtered_data = last_row[[col for col in last_row.columns if col.strip() in years_of_interest]]\n",
    "\n",
    "# Create a new DataFrame with years as a column\n",
    "new_df = pd.DataFrame({\n",
    "    'Year': filtered_data.columns,\n",
    "    'Total Energy Consumption': filtered_data.values[0]\n",
    "})\n",
    "\n",
    "# Display the new DataFrame\n",
    "new_df.head()"
   ]
  },
  {
   "cell_type": "code",
   "execution_count": 30,
   "id": "aef12441",
   "metadata": {},
   "outputs": [],
   "source": [
    "# Convert 'Year' column to integer\n",
    "new_df['Year'] = new_df['Year'].astype(int)\n",
    "\n",
    "# Filter the data to include only the years 2011 to 2022\n",
    "europe_df_filtered = average_by_year[(average_by_year['TIME_PERIOD'] >= 2011) & (average_by_year['TIME_PERIOD'] <= 2022)]\n",
    "ireland_df_filtered = new_df[(new_df['Year'] >= 2011) & (new_df['Year'] <= 2022)]"
   ]
  },
  {
   "cell_type": "code",
   "execution_count": 31,
   "id": "4993e74e",
   "metadata": {},
   "outputs": [
    {
     "data": {
      "image/png": "[encoded data removed]",
      "text/plain": [
       "<Figure size 800x400 with 1 Axes>"
      ]
     },
     "metadata": {},
     "output_type": "display_data"
    }
   ],
   "source": [
    "# Aggregate data by year\n",
    "europe_agg = europe_df_filtered.groupby('TIME_PERIOD')['OBS_VALUE'].sum().reset_index()\n",
    "ireland_agg = ireland_df_filtered.groupby('Year')['Total Energy Consumption'].sum().reset_index()\n",
    "\n",
    "# Renaming columns for clarity\n",
    "europe_agg.rename(columns={'OBS_VALUE': 'Europe Consumption', 'TIME_PERIOD': 'Year'}, inplace=True)\n",
    "ireland_agg.rename(columns={'Total Energy Consumption': 'Ireland Consumption'}, inplace=True)\n",
    "\n",
    "# Merge the data frames on the 'Year' column\n",
    "comparison_df = pd.merge(europe_agg, ireland_agg, on='Year')\n",
    "\n",
    "# Plot the data\n",
    "plt.figure(figsize=(8, 4))\n",
    "plt.plot(comparison_df['Year'], comparison_df['Europe Consumption'], label='Europe Energy Consumption')\n",
    "plt.plot(comparison_df['Year'], comparison_df['Ireland Consumption'], label='Ireland Energy Consumption')\n",
    "plt.xlabel('Year')\n",
    "plt.ylabel('Energy Consumption')\n",
    "plt.title('Comparison of Energy Consumption: Ireland vs Europe (2011-2022)')\n",
    "plt.legend()\n",
    "plt.grid(True)\n",
    "plt.show()"
   ]
  },
  {
   "cell_type": "code",
   "execution_count": 32,
   "id": "11e21854",
   "metadata": {},
   "outputs": [
    {
     "name": "stdout",
     "output_type": "stream",
     "text": [
      "Pearson correlation coefficient: -0.07826724598719766\n",
      "P-value: 0.8089537351891013\n",
      "There is no significant correlation between Ireland's and Europe's energy consumption.\n"
     ]
    }
   ],
   "source": [
    "# Calculate the Pearson correlation coefficient\n",
    "corr_coefficient, p_value = pearsonr(comparison_df['Europe Consumption'], comparison_df['Ireland Consumption'])\n",
    "\n",
    "print(f\"Pearson correlation coefficient: {corr_coefficient}\")\n",
    "print(f\"P-value: {p_value}\")\n",
    "\n",
    "if p_value < 0.05:\n",
    "    print(\"There is a significant correlation between Ireland's and Europe's energy consumption.\")\n",
    "else:\n",
    "    print(\"There is no significant correlation between Ireland's and Europe's energy consumption.\")"
   ]
  },
  {
   "cell_type": "code",
   "execution_count": null,
   "id": "3d57c9f8",
   "metadata": {},
   "outputs": [],
   "source": []
  },
  {
   "cell_type": "code",
   "execution_count": null,
   "id": "183f053d",
   "metadata": {},
   "outputs": [],
   "source": []
  }
 ],
 "metadata": {
  "kernelspec": {
   "display_name": "Python 3 (ipykernel)",
   "language": "python",
   "name": "python3"
  },
  "language_info": {
   "codemirror_mode": {
    "name": "ipython",
    "version": 3
   },
   "file_extension": ".py",
   "mimetype": "text/x-python",
   "name": "python",
   "nbconvert_exporter": "python",
   "pygments_lexer": "ipython3",
   "version": "3.11.7"
  }
 },
 "nbformat": 4,
 "nbformat_minor": 5
}
