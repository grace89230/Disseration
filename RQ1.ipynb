{
 "cells": [
  {
   "cell_type": "markdown",
   "id": "c703a5ff",
   "metadata": {},
   "source": [
    "### RQ1: Was there any significant effect of the war on Ireland's energy consumption?"
   ]
  },
  {
   "cell_type": "code",
   "execution_count": 306,
   "id": "8220cdbb",
   "metadata": {},
   "outputs": [],
   "source": [
    "import pandas as pd\n",
    "import numpy as np\n",
    "import seaborn as sns\n",
    "import matplotlib.pyplot as plt\n",
    "import statsmodels.api as sm\n",
    "from statsmodels.tsa.arima.model import ARIMA\n",
    "from statsmodels.stats.diagnostic import breaks_cusumolsresid\n",
    "from statsmodels.tsa.stattools import adfuller\n",
    "from statsmodels.tsa.statespace.sarimax import SARIMAX\n",
    "from sklearn.metrics import mean_squared_error\n",
    "from math import sqrt\n",
    "import pmdarima as pm\n",
    "from pmdarima.model_selection import train_test_split"
   ]
  },
  {
   "cell_type": "code",
   "execution_count": 307,
   "id": "ae860cf5",
   "metadata": {},
   "outputs": [
    {
     "name": "stdout",
     "output_type": "stream",
     "text": [
      "Columns in the last row: Index(['TFC', 'Unnamed: 1', '1990', '1991', '1992', '1993', '1994', '1995',\n",
      "       '1996', '1997', '1998', '1999', '2000', '2001', '2002', '2003', '2004',\n",
      "       '2005', '2006', '2007', '2008', '2009', '2010', '2011', '2012', '2013',\n",
      "       '2014', '2015', '2016', '2017', '2018', '2019', '2020', '2021', '2022'],\n",
      "      dtype='object')\n"
     ]
    }
   ],
   "source": [
    "# Load the Excel file\n",
    "file_path = r\"C:\\Users\\grace\\Desktop\\Dissertation\\data\\seas\\Final-Energy-Consumption.xlsx\"\n",
    "excel_data = pd.ExcelFile(file_path)\n",
    "\n",
    "# Load the first sheet into a DataFrame\n",
    "df_first_sheet = excel_data.parse(sheet_name=excel_data.sheet_names[0])\n",
    "\n",
    "# Extract the last row of the DataFrame\n",
    "last_row = df_first_sheet.tail(1)\n",
    "\n",
    "# Convert all column names to strings\n",
    "last_row.columns = last_row.columns.map(str)\n",
    "\n",
    "# Print the columns to understand their structure\n",
    "print(\"Columns in the last row:\", last_row.columns)"
   ]
  },
  {
   "cell_type": "code",
   "execution_count": 308,
   "id": "0b41aff8",
   "metadata": {},
   "outputs": [
    {
     "data": {
      "text/html": [
       "<div>\n",
       "<style scoped>\n",
       "    .dataframe tbody tr th:only-of-type {\n",
       "        vertical-align: middle;\n",
       "    }\n",
       "\n",
       "    .dataframe tbody tr th {\n",
       "        vertical-align: top;\n",
       "    }\n",
       "\n",
       "    .dataframe thead th {\n",
       "        text-align: right;\n",
       "    }\n",
       "</style>\n",
       "<table border=\"1\" class=\"dataframe\">\n",
       "  <thead>\n",
       "    <tr style=\"text-align: right;\">\n",
       "      <th></th>\n",
       "      <th>Year</th>\n",
       "      <th>Total Energy Consumption</th>\n",
       "    </tr>\n",
       "  </thead>\n",
       "  <tbody>\n",
       "    <tr>\n",
       "      <th>0</th>\n",
       "      <td>2010</td>\n",
       "      <td>11884.374798</td>\n",
       "    </tr>\n",
       "    <tr>\n",
       "      <th>1</th>\n",
       "      <td>2011</td>\n",
       "      <td>11084.673482</td>\n",
       "    </tr>\n",
       "    <tr>\n",
       "      <th>2</th>\n",
       "      <td>2012</td>\n",
       "      <td>10727.657151</td>\n",
       "    </tr>\n",
       "    <tr>\n",
       "      <th>3</th>\n",
       "      <td>2013</td>\n",
       "      <td>10908.688609</td>\n",
       "    </tr>\n",
       "    <tr>\n",
       "      <th>4</th>\n",
       "      <td>2014</td>\n",
       "      <td>10873.258243</td>\n",
       "    </tr>\n",
       "  </tbody>\n",
       "</table>\n",
       "</div>"
      ],
      "text/plain": [
       "   Year  Total Energy Consumption\n",
       "0  2010              11884.374798\n",
       "1  2011              11084.673482\n",
       "2  2012              10727.657151\n",
       "3  2013              10908.688609\n",
       "4  2014              10873.258243"
      ]
     },
     "execution_count": 308,
     "metadata": {},
     "output_type": "execute_result"
    }
   ],
   "source": [
    "# Filter the columns to include only the years from 2010 to 2022\n",
    "years_of_interest = [str(year) for year in range(2010, 2022 + 1)]\n",
    "filtered_data = last_row[[col for col in last_row.columns if col.strip() in years_of_interest]]\n",
    "\n",
    "# Create a new DataFrame with years as a column\n",
    "new_df = pd.DataFrame({\n",
    "    'Year': filtered_data.columns,\n",
    "    'Total Energy Consumption': filtered_data.values[0]\n",
    "})\n",
    "\n",
    "# Display the new DataFrame\n",
    "new_df.head()"
   ]
  },
  {
   "cell_type": "code",
   "execution_count": 309,
   "id": "e6f77609",
   "metadata": {},
   "outputs": [
    {
     "name": "stdout",
     "output_type": "stream",
     "text": [
      "<class 'pandas.core.frame.DataFrame'>\n",
      "RangeIndex: 13 entries, 0 to 12\n",
      "Data columns (total 2 columns):\n",
      " #   Column                    Non-Null Count  Dtype  \n",
      "---  ------                    --------------  -----  \n",
      " 0   Year                      13 non-null     object \n",
      " 1   Total Energy Consumption  13 non-null     float64\n",
      "dtypes: float64(1), object(1)\n",
      "memory usage: 340.0+ bytes\n"
     ]
    }
   ],
   "source": [
    "new_df.info()"
   ]
  },
  {
   "cell_type": "code",
   "execution_count": 322,
   "id": "808f94e4",
   "metadata": {},
   "outputs": [
    {
     "data": {
      "text/html": [
       "<div>\n",
       "<style scoped>\n",
       "    .dataframe tbody tr th:only-of-type {\n",
       "        vertical-align: middle;\n",
       "    }\n",
       "\n",
       "    .dataframe tbody tr th {\n",
       "        vertical-align: top;\n",
       "    }\n",
       "\n",
       "    .dataframe thead th {\n",
       "        text-align: right;\n",
       "    }\n",
       "</style>\n",
       "<table border=\"1\" class=\"dataframe\">\n",
       "  <thead>\n",
       "    <tr style=\"text-align: right;\">\n",
       "      <th></th>\n",
       "      <th>Total Energy Consumption</th>\n",
       "    </tr>\n",
       "  </thead>\n",
       "  <tbody>\n",
       "    <tr>\n",
       "      <th>count</th>\n",
       "      <td>13.000000</td>\n",
       "    </tr>\n",
       "    <tr>\n",
       "      <th>mean</th>\n",
       "      <td>11558.999518</td>\n",
       "    </tr>\n",
       "    <tr>\n",
       "      <th>std</th>\n",
       "      <td>576.368660</td>\n",
       "    </tr>\n",
       "    <tr>\n",
       "      <th>min</th>\n",
       "      <td>10727.657151</td>\n",
       "    </tr>\n",
       "    <tr>\n",
       "      <th>25%</th>\n",
       "      <td>11084.673482</td>\n",
       "    </tr>\n",
       "    <tr>\n",
       "      <th>50%</th>\n",
       "      <td>11513.886376</td>\n",
       "    </tr>\n",
       "    <tr>\n",
       "      <th>75%</th>\n",
       "      <td>11889.276665</td>\n",
       "    </tr>\n",
       "    <tr>\n",
       "      <th>max</th>\n",
       "      <td>12437.366815</td>\n",
       "    </tr>\n",
       "  </tbody>\n",
       "</table>\n",
       "</div>"
      ],
      "text/plain": [
       "       Total Energy Consumption\n",
       "count                 13.000000\n",
       "mean               11558.999518\n",
       "std                  576.368660\n",
       "min                10727.657151\n",
       "25%                11084.673482\n",
       "50%                11513.886376\n",
       "75%                11889.276665\n",
       "max                12437.366815"
      ]
     },
     "execution_count": 322,
     "metadata": {},
     "output_type": "execute_result"
    }
   ],
   "source": [
    "new_df.describe()"
   ]
  },
  {
   "cell_type": "code",
   "execution_count": 310,
   "id": "40f78718",
   "metadata": {},
   "outputs": [],
   "source": [
    "# Convert the 'Year' column to datetime\n",
    "new_df['Year'] = pd.to_datetime(new_df['Year'])"
   ]
  },
  {
   "cell_type": "code",
   "execution_count": 324,
   "id": "b2870b0e",
   "metadata": {},
   "outputs": [
    {
     "data": {
      "text/plain": [
       "Total Energy Consumption    0\n",
       "dtype: int64"
      ]
     },
     "execution_count": 324,
     "metadata": {},
     "output_type": "execute_result"
    }
   ],
   "source": [
    "new_df.isnull().sum()"
   ]
  },
  {
   "cell_type": "code",
   "execution_count": 311,
   "id": "ff1faa43",
   "metadata": {},
   "outputs": [
    {
     "data": {
      "image/png": "[encoded data removed]",
      "text/plain": [
       "<Figure size 700x400 with 1 Axes>"
      ]
     },
     "metadata": {},
     "output_type": "display_data"
    }
   ],
   "source": [
    "# Plot the data\n",
    "plt.figure(figsize=(7, 4))\n",
    "plt.plot(new_df['Year'], new_df['Total Energy Consumption'], marker='o')\n",
    "plt.title('Total Energy Consumption from 2010 to 2022')\n",
    "plt.xlabel('Year')\n",
    "plt.ylabel('Total Energy Consumption')\n",
    "plt.grid(True)\n",
    "plt.show()"
   ]
  },
  {
   "cell_type": "markdown",
   "id": "8e3af0c6",
   "metadata": {},
   "source": [
    "### ARIMA Model"
   ]
  },
  {
   "cell_type": "code",
   "execution_count": 312,
   "id": "e8d7671f",
   "metadata": {},
   "outputs": [],
   "source": [
    "# Extract the 'Total Energy Consumption' column\n",
    "y = new_df['Total Energy Consumption']"
   ]
  },
  {
   "cell_type": "code",
   "execution_count": 313,
   "id": "9f9f540b",
   "metadata": {},
   "outputs": [
    {
     "name": "stdout",
     "output_type": "stream",
     "text": [
      "ADF Test Results:\n",
      "ADF Statistic: -3.9725\n",
      "P-value: 0.0016\n",
      "Critical Values:\n",
      "1%: -4.4731\n",
      "5%: -3.2899\n",
      "10%: -2.7724\n",
      "Time series is stationary (reject null hypothesis).\n"
     ]
    }
   ],
   "source": [
    "# Step 2: Stationarity Check (ADF Test)\n",
    "result_adf = sm.tsa.adfuller(new_df['Total Energy Consumption'])\n",
    "print(\"ADF Test Results:\")\n",
    "print(f\"ADF Statistic: {result_adf[0]:.4f}\")\n",
    "print(f\"P-value: {result_adf[1]:.4f}\")\n",
    "print(\"Critical Values:\")\n",
    "for key, value in result_adf[4].items():\n",
    "    print(f\"{key}: {value:.4f}\")\n",
    "    \n",
    "    \n",
    "# If p-value is less than a significance level (e.g., 0.05), reject the null hypothesis (series is stationary)\n",
    "if result_adf[1] < 0.05:\n",
    "    print(\"Time series is stationary (reject null hypothesis).\")\n",
    "else:\n",
    "    print(\"Time series is not stationary (fail to reject null hypothesis).\")"
   ]
  },
  {
   "cell_type": "code",
   "execution_count": 314,
   "id": "9556eeb2",
   "metadata": {},
   "outputs": [],
   "source": [
    "# Train-test split\n",
    "train, test = train_test_split(y, train_size=0.8)"
   ]
  },
  {
   "cell_type": "code",
   "execution_count": 315,
   "id": "c68f6996",
   "metadata": {},
   "outputs": [
    {
     "name": "stdout",
     "output_type": "stream",
     "text": [
      "Performing stepwise search to minimize aic\n",
      " ARIMA(0,0,0)(0,0,0)[0]             : AIC=217.485, Time=0.01 sec\n",
      " ARIMA(1,0,0)(0,0,0)[0]             : AIC=inf, Time=0.03 sec\n",
      " ARIMA(0,0,1)(0,0,0)[0]             : AIC=inf, Time=0.02 sec\n",
      " ARIMA(1,0,1)(0,0,0)[0]             : AIC=inf, Time=0.03 sec\n",
      " ARIMA(0,0,0)(0,0,0)[0] intercept   : AIC=160.415, Time=0.01 sec\n",
      " ARIMA(1,0,0)(0,0,0)[0] intercept   : AIC=154.705, Time=0.01 sec\n",
      " ARIMA(2,0,0)(0,0,0)[0] intercept   : AIC=154.024, Time=0.04 sec\n",
      " ARIMA(3,0,0)(0,0,0)[0] intercept   : AIC=157.779, Time=0.09 sec\n",
      " ARIMA(2,0,1)(0,0,0)[0] intercept   : AIC=inf, Time=0.05 sec\n",
      " ARIMA(1,0,1)(0,0,0)[0] intercept   : AIC=155.817, Time=0.08 sec\n",
      " ARIMA(3,0,1)(0,0,0)[0] intercept   : AIC=156.256, Time=0.09 sec\n",
      " ARIMA(2,0,0)(0,0,0)[0]             : AIC=inf, Time=0.04 sec\n",
      "\n",
      "Best model:  ARIMA(2,0,0)(0,0,0)[0] intercept\n",
      "Total fit time: 0.513 seconds\n"
     ]
    }
   ],
   "source": [
    "# Perform grid search to find the best parameters for a non-seasonal ARIMA model\n",
    "model = pm.auto_arima(train, \n",
    "                      seasonal=False,  # Turn off seasonality due to limited data\n",
    "                      stepwise=True, \n",
    "                      trace=True, \n",
    "                      error_action='ignore', \n",
    "                      suppress_warnings=True, \n",
    "                      max_p=3, max_q=3, \n",
    "                      start_p=0, start_q=0,\n",
    "                      information_criterion='aic')"
   ]
  },
  {
   "cell_type": "code",
   "execution_count": 316,
   "id": "3f2ccd26",
   "metadata": {},
   "outputs": [],
   "source": [
    "# Set 'Year' as the index (required for time series analysis)\n",
    "new_df.set_index('Year', inplace=True)"
   ]
  },
  {
   "cell_type": "code",
   "execution_count": 317,
   "id": "c9ddb796",
   "metadata": {},
   "outputs": [
    {
     "name": "stderr",
     "output_type": "stream",
     "text": [
      "C:\\Users\\grace\\anaconda3\\Lib\\site-packages\\statsmodels\\tsa\\base\\tsa_model.py:473: ValueWarning: No frequency information was provided, so inferred frequency AS-JAN will be used.\n",
      "  self._init_dates(dates, freq)\n",
      "C:\\Users\\grace\\anaconda3\\Lib\\site-packages\\statsmodels\\tsa\\base\\tsa_model.py:473: ValueWarning: No frequency information was provided, so inferred frequency AS-JAN will be used.\n",
      "  self._init_dates(dates, freq)\n",
      "C:\\Users\\grace\\anaconda3\\Lib\\site-packages\\statsmodels\\tsa\\statespace\\sarimax.py:966: UserWarning: Non-stationary starting autoregressive parameters found. Using zeros as starting parameters.\n",
      "  warn('Non-stationary starting autoregressive parameters'\n",
      "C:\\Users\\grace\\anaconda3\\Lib\\site-packages\\statsmodels\\tsa\\statespace\\sarimax.py:997: UserWarning: Non-stationary starting seasonal autoregressive Using zeros as starting parameters.\n",
      "  warn('Non-stationary starting seasonal autoregressive'\n"
     ]
    }
   ],
   "source": [
    "# Step 3: Fit SARIMA model\n",
    "order = (2, 0, 0)  # Example order (p, d, q)\n",
    "seasonal_order = (1, 0, 0, 12)  # Example seasonal order (P, D, Q, s)\n",
    "\n",
    "model = sm.tsa.statespace.SARIMAX(new_df['Total Energy Consumption'],\n",
    "                                  order=order,\n",
    "                                  seasonal_order=seasonal_order,\n",
    "                                  enforce_invertibility=False)\n",
    "results = model.fit()"
   ]
  },
  {
   "cell_type": "code",
   "execution_count": 318,
   "id": "ad99b013",
   "metadata": {},
   "outputs": [],
   "source": [
    "# Step 4: Get forecasts (optional)\n",
    "forecast_steps = 12  # Example: forecast next 12 months\n",
    "forecastsarima = results.get_forecast(steps=forecast_steps)"
   ]
  },
  {
   "cell_type": "code",
   "execution_count": 319,
   "id": "f2787a48",
   "metadata": {},
   "outputs": [
    {
     "data": {
      "image/png": "[encoded data removed]",
      "text/plain": [
       "<Figure size 700x400 with 1 Axes>"
      ]
     },
     "metadata": {},
     "output_type": "display_data"
    }
   ],
   "source": [
    "# Step 5: Plot actual vs. forecast (optional)\n",
    "plt.figure(figsize=(7, 4))\n",
    "plt.plot(new_df.index, new_df['Total Energy Consumption'], label='Actual')\n",
    "plt.plot(forecastsarima.predicted_mean.index, forecastsarima.predicted_mean, label='Forecast', color='orange')\n",
    "plt.xlabel('Year')\n",
    "plt.ylabel('Energy Consumption')\n",
    "plt.title('SARIMA Forecast for Energy Consumption')\n",
    "plt.grid(True)\n",
    "plt.legend()\n",
    "plt.show()"
   ]
  },
  {
   "cell_type": "code",
   "execution_count": 320,
   "id": "be79025a",
   "metadata": {},
   "outputs": [
    {
     "name": "stdout",
     "output_type": "stream",
     "text": [
      "                                     SARIMAX Results                                      \n",
      "==========================================================================================\n",
      "Dep. Variable:           Total Energy Consumption   No. Observations:                   13\n",
      "Model:             SARIMAX(2, 0, 0)x(1, 0, 0, 12)   Log Likelihood                -102.980\n",
      "Date:                            Wed, 12 Jun 2024   AIC                            213.961\n",
      "Time:                                    13:55:35   BIC                            216.221\n",
      "Sample:                                01-01-2010   HQIC                           213.496\n",
      "                                     - 01-01-2022                                         \n",
      "Covariance Type:                              opg                                         \n",
      "==============================================================================\n",
      "                 coef    std err          z      P>|z|      [0.025      0.975]\n",
      "------------------------------------------------------------------------------\n",
      "ar.L1          1.0488      0.540      1.944      0.052      -0.009       2.106\n",
      "ar.L2         -0.0511      0.531     -0.096      0.923      -1.092       0.990\n",
      "ar.S.L12       0.3906      0.683      0.572      0.567      -0.948       1.729\n",
      "sigma2      2.332e+05   3.21e-06   7.27e+10      0.000    2.33e+05    2.33e+05\n",
      "===================================================================================\n",
      "Ljung-Box (L1) (Q):                   0.04   Jarque-Bera (JB):                 2.80\n",
      "Prob(Q):                              0.85   Prob(JB):                         0.25\n",
      "Heteroskedasticity (H):               1.73   Skew:                            -1.13\n",
      "Prob(H) (two-sided):                  0.61   Kurtosis:                         3.26\n",
      "===================================================================================\n",
      "\n",
      "Warnings:\n",
      "[1] Covariance matrix calculated using the outer product of gradients (complex-step).\n",
      "[2] Covariance matrix is singular or near-singular, with condition number 2.56e+27. Standard errors may be unstable.\n"
     ]
    }
   ],
   "source": [
    "# Step 6: Print summary of the model\n",
    "print(results.summary())"
   ]
  },
  {
   "cell_type": "code",
   "execution_count": 321,
   "id": "5f267593",
   "metadata": {},
   "outputs": [
    {
     "name": "stdout",
     "output_type": "stream",
     "text": [
      "Root Mean Squared Error (RMSE): 3.3584316207802574\n"
     ]
    }
   ],
   "source": [
    "# Step 6: Calculate RMSE\n",
    "forecast_values = forecastsarima.predicted_mean\n",
    "# For the sake of this example, I'll generate random actual values\n",
    "actual_values = np.random.normal(loc=forecast_values, scale=5)  # Example random actual values\n",
    "mse = mean_squared_error(actual_values, forecast_values)\n",
    "rmse = np.sqrt(mse)\n",
    "print(\"Root Mean Squared Error (RMSE):\", rmse)"
   ]
  },
  {
   "cell_type": "code",
   "execution_count": null,
   "id": "b515a52b",
   "metadata": {},
   "outputs": [],
   "source": []
  },
  {
   "cell_type": "code",
   "execution_count": null,
   "id": "65d64d72",
   "metadata": {},
   "outputs": [],
   "source": []
  }
 ],
 "metadata": {
  "kernelspec": {
   "display_name": "Python 3 (ipykernel)",
   "language": "python",
   "name": "python3"
  },
  "language_info": {
   "codemirror_mode": {
    "name": "ipython",
    "version": 3
   },
   "file_extension": ".py",
   "mimetype": "text/x-python",
   "name": "python",
   "nbconvert_exporter": "python",
   "pygments_lexer": "ipython3",
   "version": "3.11.7"
  }
 },
 "nbformat": 4,
 "nbformat_minor": 5
}
